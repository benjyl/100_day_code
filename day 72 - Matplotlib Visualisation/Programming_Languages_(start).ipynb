{
  "cells": [
    {
      "cell_type": "markdown",
      "metadata": {
        "colab_type": "text",
        "id": "MAAKxOwsGxuj"
      },
      "source": [
        "## Get the Data\n",
        "\n",
        "Either use the provided .csv file or (optionally) get fresh (the freshest?) data from running an SQL query on StackExchange: \n",
        "\n",
        "Follow this link to run the query from [StackExchange](https://data.stackexchange.com/stackoverflow/query/675441/popular-programming-languages-per-over-time-eversql-com) to get your own .csv file\n",
        "\n",
        "<code>\n",
        "select dateadd(month, datediff(month, 0, q.CreationDate), 0) m, TagName, count(*)\n",
        "from PostTags pt\n",
        "join Posts q on q.Id=pt.PostId\n",
        "join Tags t on t.Id=pt.TagId\n",
        "where TagName in ('java','c','c++','python','c#','javascript','assembly','php','perl','ruby','visual basic','swift','r','object-c','scratch','go','swift','delphi')\n",
        "and q.CreationDate < dateadd(month, datediff(month, 0, getdate()), 0)\n",
        "group by dateadd(month, datediff(month, 0, q.CreationDate), 0), TagName\n",
        "order by dateadd(month, datediff(month, 0, q.CreationDate), 0)\n",
        "</code>"
      ]
    },
    {
      "cell_type": "markdown",
      "metadata": {
        "colab_type": "text",
        "id": "u5KcSXt1Gxuk"
      },
      "source": [
        "## Import Statements"
      ]
    },
    {
      "cell_type": "code",
      "execution_count": 80,
      "metadata": {
        "colab": {},
        "colab_type": "code",
        "id": "Ru4Wq-pXGxuk"
      },
      "outputs": [],
      "source": [
        "import pandas as pd\n",
        "import numpy as np\n",
        "import matplotlib.pyplot as plt"
      ]
    },
    {
      "cell_type": "markdown",
      "metadata": {
        "colab_type": "text",
        "id": "xEP6beuEGxun"
      },
      "source": [
        "## Data Exploration"
      ]
    },
    {
      "cell_type": "markdown",
      "metadata": {
        "colab_type": "text",
        "id": "w3Q75B4CGxun"
      },
      "source": [
        "**Challenge**: Read the .csv file and store it in a Pandas dataframe"
      ]
    },
    {
      "cell_type": "code",
      "execution_count": 17,
      "metadata": {
        "colab": {},
        "colab_type": "code",
        "id": "Bm7hQtEGIiri"
      },
      "outputs": [
        {
          "data": {
            "text/plain": [
              "Index(['DATE', 'TAG', 'POSTS'], dtype='object')"
            ]
          },
          "execution_count": 17,
          "metadata": {},
          "output_type": "execute_result"
        }
      ],
      "source": [
        "df = pd.read_csv(\"QueryResults.csv\", header=0, names=[\"DATE\", \"TAG\", \"POSTS\"])\n",
        "df.columns"
      ]
    },
    {
      "cell_type": "markdown",
      "metadata": {
        "colab_type": "text",
        "id": "x2WnDM75Gxup"
      },
      "source": [
        "**Challenge**: Examine the first 5 rows and the last 5 rows of the of the dataframe"
      ]
    },
    {
      "cell_type": "code",
      "execution_count": 22,
      "metadata": {
        "colab": {},
        "colab_type": "code",
        "id": "50oqpUxVIiJf"
      },
      "outputs": [
        {
          "name": "stdout",
          "output_type": "stream",
          "text": [
            "                  DATE       TAG  POSTS\n",
            "0  2008-07-01 00:00:00        c#      3\n",
            "1  2008-08-01 00:00:00  assembly      8\n",
            "2  2008-08-01 00:00:00         c     83\n",
            "3  2008-08-01 00:00:00        c#    505\n",
            "4  2008-08-01 00:00:00       c++    164\n",
            "                     DATE     TAG  POSTS\n",
            "2477  2023-06-01 00:00:00     php   2020\n",
            "2478  2023-06-01 00:00:00  python  11725\n",
            "2479  2023-06-01 00:00:00       r   2710\n",
            "2480  2023-06-01 00:00:00    ruby    229\n",
            "2481  2023-06-01 00:00:00   swift   1163\n"
          ]
        }
      ],
      "source": [
        "print(df.head())\n",
        "print(df.tail())\n"
      ]
    },
    {
      "cell_type": "markdown",
      "metadata": {
        "colab_type": "text",
        "id": "0o9hvVgyGxus"
      },
      "source": [
        "**Challenge:** Check how many rows and how many columns there are. \n",
        "What are the dimensions of the dataframe?"
      ]
    },
    {
      "cell_type": "code",
      "execution_count": 19,
      "metadata": {
        "colab": {},
        "colab_type": "code",
        "id": "ZUidjCPFIho8"
      },
      "outputs": [
        {
          "data": {
            "text/plain": [
              "(2482, 3)"
            ]
          },
          "execution_count": 19,
          "metadata": {},
          "output_type": "execute_result"
        }
      ],
      "source": [
        "df.shape"
      ]
    },
    {
      "cell_type": "markdown",
      "metadata": {
        "colab_type": "text",
        "id": "ybZkNLmxGxuu"
      },
      "source": [
        "**Challenge**: Count the number of entries in each column of the dataframe"
      ]
    },
    {
      "cell_type": "code",
      "execution_count": 20,
      "metadata": {
        "colab": {},
        "colab_type": "code",
        "id": "Sc1dmmOoIg2g"
      },
      "outputs": [
        {
          "data": {
            "text/plain": [
              "DATE     2482\n",
              "TAG      2482\n",
              "POSTS    2482\n",
              "dtype: int64"
            ]
          },
          "execution_count": 20,
          "metadata": {},
          "output_type": "execute_result"
        }
      ],
      "source": [
        "df.count()"
      ]
    },
    {
      "cell_type": "markdown",
      "metadata": {
        "colab_type": "text",
        "id": "hlnfFsscGxuw"
      },
      "source": [
        "**Challenge**: Calculate the total number of post per language.\n",
        "Which Programming language has had the highest total number of posts of all time?"
      ]
    },
    {
      "cell_type": "code",
      "execution_count": 28,
      "metadata": {
        "colab": {},
        "colab_type": "code",
        "id": "9-NYFONcIc1X"
      },
      "outputs": [
        {
          "data": {
            "text/html": [
              "<div>\n",
              "<style scoped>\n",
              "    .dataframe tbody tr th:only-of-type {\n",
              "        vertical-align: middle;\n",
              "    }\n",
              "\n",
              "    .dataframe tbody tr th {\n",
              "        vertical-align: top;\n",
              "    }\n",
              "\n",
              "    .dataframe thead th {\n",
              "        text-align: right;\n",
              "    }\n",
              "</style>\n",
              "<table border=\"1\" class=\"dataframe\">\n",
              "  <thead>\n",
              "    <tr style=\"text-align: right;\">\n",
              "      <th></th>\n",
              "      <th>POSTS</th>\n",
              "    </tr>\n",
              "    <tr>\n",
              "      <th>TAG</th>\n",
              "      <th></th>\n",
              "    </tr>\n",
              "  </thead>\n",
              "  <tbody>\n",
              "    <tr>\n",
              "      <th>assembly</th>\n",
              "      <td>42910</td>\n",
              "    </tr>\n",
              "    <tr>\n",
              "      <th>c</th>\n",
              "      <td>397157</td>\n",
              "    </tr>\n",
              "    <tr>\n",
              "      <th>c#</th>\n",
              "      <td>1594301</td>\n",
              "    </tr>\n",
              "    <tr>\n",
              "      <th>c++</th>\n",
              "      <td>795196</td>\n",
              "    </tr>\n",
              "    <tr>\n",
              "      <th>delphi</th>\n",
              "      <td>51012</td>\n",
              "    </tr>\n",
              "    <tr>\n",
              "      <th>go</th>\n",
              "      <td>69602</td>\n",
              "    </tr>\n",
              "    <tr>\n",
              "      <th>java</th>\n",
              "      <td>1898827</td>\n",
              "    </tr>\n",
              "    <tr>\n",
              "      <th>javascript</th>\n",
              "      <td>2498146</td>\n",
              "    </tr>\n",
              "    <tr>\n",
              "      <th>perl</th>\n",
              "      <td>67688</td>\n",
              "    </tr>\n",
              "    <tr>\n",
              "      <th>php</th>\n",
              "      <td>1458594</td>\n",
              "    </tr>\n",
              "    <tr>\n",
              "      <th>python</th>\n",
              "      <td>2141741</td>\n",
              "    </tr>\n",
              "    <tr>\n",
              "      <th>r</th>\n",
              "      <td>492163</td>\n",
              "    </tr>\n",
              "    <tr>\n",
              "      <th>ruby</th>\n",
              "      <td>228028</td>\n",
              "    </tr>\n",
              "    <tr>\n",
              "      <th>swift</th>\n",
              "      <td>327910</td>\n",
              "    </tr>\n",
              "  </tbody>\n",
              "</table>\n",
              "</div>"
            ],
            "text/plain": [
              "              POSTS\n",
              "TAG                \n",
              "assembly      42910\n",
              "c            397157\n",
              "c#          1594301\n",
              "c++          795196\n",
              "delphi        51012\n",
              "go            69602\n",
              "java        1898827\n",
              "javascript  2498146\n",
              "perl          67688\n",
              "php         1458594\n",
              "python      2141741\n",
              "r            492163\n",
              "ruby         228028\n",
              "swift        327910"
            ]
          },
          "execution_count": 28,
          "metadata": {},
          "output_type": "execute_result"
        }
      ],
      "source": [
        "df.groupby(\"TAG\").sum(numeric_only=True) # only look at columns with numeric values (otherwise makes no sense)"
      ]
    },
    {
      "cell_type": "markdown",
      "metadata": {
        "colab_type": "text",
        "id": "iVCesB49Gxuz"
      },
      "source": [
        "Some languages are older (e.g., C) and other languages are newer (e.g., Swift). The dataset starts in September 2008.\n",
        "\n",
        "**Challenge**: How many months of data exist per language? Which language had the fewest months with an entry? \n"
      ]
    },
    {
      "cell_type": "code",
      "execution_count": 29,
      "metadata": {
        "colab": {},
        "colab_type": "code",
        "id": "hDT4JlJNJfgQ"
      },
      "outputs": [
        {
          "data": {
            "text/html": [
              "<div>\n",
              "<style scoped>\n",
              "    .dataframe tbody tr th:only-of-type {\n",
              "        vertical-align: middle;\n",
              "    }\n",
              "\n",
              "    .dataframe tbody tr th {\n",
              "        vertical-align: top;\n",
              "    }\n",
              "\n",
              "    .dataframe thead th {\n",
              "        text-align: right;\n",
              "    }\n",
              "</style>\n",
              "<table border=\"1\" class=\"dataframe\">\n",
              "  <thead>\n",
              "    <tr style=\"text-align: right;\">\n",
              "      <th></th>\n",
              "      <th>DATE</th>\n",
              "      <th>POSTS</th>\n",
              "    </tr>\n",
              "    <tr>\n",
              "      <th>TAG</th>\n",
              "      <th></th>\n",
              "      <th></th>\n",
              "    </tr>\n",
              "  </thead>\n",
              "  <tbody>\n",
              "    <tr>\n",
              "      <th>assembly</th>\n",
              "      <td>179</td>\n",
              "      <td>179</td>\n",
              "    </tr>\n",
              "    <tr>\n",
              "      <th>c</th>\n",
              "      <td>179</td>\n",
              "      <td>179</td>\n",
              "    </tr>\n",
              "    <tr>\n",
              "      <th>c#</th>\n",
              "      <td>180</td>\n",
              "      <td>180</td>\n",
              "    </tr>\n",
              "    <tr>\n",
              "      <th>c++</th>\n",
              "      <td>179</td>\n",
              "      <td>179</td>\n",
              "    </tr>\n",
              "    <tr>\n",
              "      <th>delphi</th>\n",
              "      <td>179</td>\n",
              "      <td>179</td>\n",
              "    </tr>\n",
              "    <tr>\n",
              "      <th>go</th>\n",
              "      <td>164</td>\n",
              "      <td>164</td>\n",
              "    </tr>\n",
              "    <tr>\n",
              "      <th>java</th>\n",
              "      <td>179</td>\n",
              "      <td>179</td>\n",
              "    </tr>\n",
              "    <tr>\n",
              "      <th>javascript</th>\n",
              "      <td>179</td>\n",
              "      <td>179</td>\n",
              "    </tr>\n",
              "    <tr>\n",
              "      <th>perl</th>\n",
              "      <td>179</td>\n",
              "      <td>179</td>\n",
              "    </tr>\n",
              "    <tr>\n",
              "      <th>php</th>\n",
              "      <td>179</td>\n",
              "      <td>179</td>\n",
              "    </tr>\n",
              "    <tr>\n",
              "      <th>python</th>\n",
              "      <td>179</td>\n",
              "      <td>179</td>\n",
              "    </tr>\n",
              "    <tr>\n",
              "      <th>r</th>\n",
              "      <td>177</td>\n",
              "      <td>177</td>\n",
              "    </tr>\n",
              "    <tr>\n",
              "      <th>ruby</th>\n",
              "      <td>179</td>\n",
              "      <td>179</td>\n",
              "    </tr>\n",
              "    <tr>\n",
              "      <th>swift</th>\n",
              "      <td>171</td>\n",
              "      <td>171</td>\n",
              "    </tr>\n",
              "  </tbody>\n",
              "</table>\n",
              "</div>"
            ],
            "text/plain": [
              "            DATE  POSTS\n",
              "TAG                    \n",
              "assembly     179    179\n",
              "c            179    179\n",
              "c#           180    180\n",
              "c++          179    179\n",
              "delphi       179    179\n",
              "go           164    164\n",
              "java         179    179\n",
              "javascript   179    179\n",
              "perl         179    179\n",
              "php          179    179\n",
              "python       179    179\n",
              "r            177    177\n",
              "ruby         179    179\n",
              "swift        171    171"
            ]
          },
          "execution_count": 29,
          "metadata": {},
          "output_type": "execute_result"
        }
      ],
      "source": [
        "# count gives number of rows with relevant tag \n",
        "# each row = 1 month for a particular language\n",
        "df.groupby(\"TAG\").count() "
      ]
    },
    {
      "cell_type": "markdown",
      "metadata": {
        "colab_type": "text",
        "id": "arguGp3ZGxu1"
      },
      "source": [
        "## Data Cleaning\n",
        "\n",
        "Let's fix the date format to make it more readable. We need to use Pandas to change format from a string of \"2008-07-01 00:00:00\" to a datetime object with the format of \"2008-07-01\""
      ]
    },
    {
      "cell_type": "code",
      "execution_count": 35,
      "metadata": {
        "colab": {},
        "colab_type": "code",
        "id": "5nh5a4UtGxu1"
      },
      "outputs": [
        {
          "data": {
            "text/plain": [
              "Timestamp('2008-08-01 00:00:00')"
            ]
          },
          "execution_count": 35,
          "metadata": {},
          "output_type": "execute_result"
        }
      ],
      "source": [
        "# Both syntaxes do same thing\n",
        "df[\"DATE\"][1]\n",
        "df.DATE[1]\n"
      ]
    },
    {
      "cell_type": "code",
      "execution_count": 34,
      "metadata": {
        "colab": {},
        "colab_type": "code",
        "id": "016H-Fy4Gxu3"
      },
      "outputs": [
        {
          "data": {
            "text/plain": [
              "pandas._libs.tslibs.timestamps.Timestamp"
            ]
          },
          "execution_count": 34,
          "metadata": {},
          "output_type": "execute_result"
        }
      ],
      "source": [
        "type(df[\"DATE\"][1])"
      ]
    },
    {
      "cell_type": "code",
      "execution_count": 33,
      "metadata": {
        "colab": {},
        "colab_type": "code",
        "id": "4EiSd7pdGxu5"
      },
      "outputs": [
        {
          "data": {
            "text/html": [
              "<div>\n",
              "<style scoped>\n",
              "    .dataframe tbody tr th:only-of-type {\n",
              "        vertical-align: middle;\n",
              "    }\n",
              "\n",
              "    .dataframe tbody tr th {\n",
              "        vertical-align: top;\n",
              "    }\n",
              "\n",
              "    .dataframe thead th {\n",
              "        text-align: right;\n",
              "    }\n",
              "</style>\n",
              "<table border=\"1\" class=\"dataframe\">\n",
              "  <thead>\n",
              "    <tr style=\"text-align: right;\">\n",
              "      <th></th>\n",
              "      <th>DATE</th>\n",
              "      <th>TAG</th>\n",
              "      <th>POSTS</th>\n",
              "    </tr>\n",
              "  </thead>\n",
              "  <tbody>\n",
              "    <tr>\n",
              "      <th>0</th>\n",
              "      <td>2008-07-01</td>\n",
              "      <td>c#</td>\n",
              "      <td>3</td>\n",
              "    </tr>\n",
              "    <tr>\n",
              "      <th>1</th>\n",
              "      <td>2008-08-01</td>\n",
              "      <td>assembly</td>\n",
              "      <td>8</td>\n",
              "    </tr>\n",
              "    <tr>\n",
              "      <th>2</th>\n",
              "      <td>2008-08-01</td>\n",
              "      <td>c</td>\n",
              "      <td>83</td>\n",
              "    </tr>\n",
              "    <tr>\n",
              "      <th>3</th>\n",
              "      <td>2008-08-01</td>\n",
              "      <td>c#</td>\n",
              "      <td>505</td>\n",
              "    </tr>\n",
              "    <tr>\n",
              "      <th>4</th>\n",
              "      <td>2008-08-01</td>\n",
              "      <td>c++</td>\n",
              "      <td>164</td>\n",
              "    </tr>\n",
              "  </tbody>\n",
              "</table>\n",
              "</div>"
            ],
            "text/plain": [
              "        DATE       TAG  POSTS\n",
              "0 2008-07-01        c#      3\n",
              "1 2008-08-01  assembly      8\n",
              "2 2008-08-01         c     83\n",
              "3 2008-08-01        c#    505\n",
              "4 2008-08-01       c++    164"
            ]
          },
          "execution_count": 33,
          "metadata": {},
          "output_type": "execute_result"
        }
      ],
      "source": [
        "df[\"DATE\"] = pd.to_datetime(df[\"DATE\"])\n",
        "df.head()"
      ]
    },
    {
      "cell_type": "markdown",
      "metadata": {
        "colab_type": "text",
        "id": "rWAV6tuzGxu6"
      },
      "source": [
        "## Data Manipulation\n",
        "\n"
      ]
    },
    {
      "cell_type": "code",
      "execution_count": 41,
      "metadata": {
        "colab": {},
        "colab_type": "code",
        "id": "aHhbulJaGxu7"
      },
      "outputs": [
        {
          "data": {
            "text/html": [
              "<div>\n",
              "<style scoped>\n",
              "    .dataframe tbody tr th:only-of-type {\n",
              "        vertical-align: middle;\n",
              "    }\n",
              "\n",
              "    .dataframe tbody tr th {\n",
              "        vertical-align: top;\n",
              "    }\n",
              "\n",
              "    .dataframe thead th {\n",
              "        text-align: right;\n",
              "    }\n",
              "</style>\n",
              "<table border=\"1\" class=\"dataframe\">\n",
              "  <thead>\n",
              "    <tr style=\"text-align: right;\">\n",
              "      <th>Actor</th>\n",
              "      <th>Arnold</th>\n",
              "      <th>Jack</th>\n",
              "      <th>Keanu</th>\n",
              "      <th>Sylvester</th>\n",
              "    </tr>\n",
              "    <tr>\n",
              "      <th>Age</th>\n",
              "      <th></th>\n",
              "      <th></th>\n",
              "      <th></th>\n",
              "      <th></th>\n",
              "    </tr>\n",
              "  </thead>\n",
              "  <tbody>\n",
              "    <tr>\n",
              "      <th>Old</th>\n",
              "      <td>75</td>\n",
              "      <td>99</td>\n",
              "      <td>5</td>\n",
              "      <td>30</td>\n",
              "    </tr>\n",
              "    <tr>\n",
              "      <th>Young</th>\n",
              "      <td>80</td>\n",
              "      <td>100</td>\n",
              "      <td>25</td>\n",
              "      <td>50</td>\n",
              "    </tr>\n",
              "  </tbody>\n",
              "</table>\n",
              "</div>"
            ],
            "text/plain": [
              "Actor  Arnold  Jack  Keanu  Sylvester\n",
              "Age                                  \n",
              "Old        75    99      5         30\n",
              "Young      80   100     25         50"
            ]
          },
          "execution_count": 41,
          "metadata": {},
          "output_type": "execute_result"
        }
      ],
      "source": [
        "test_df = pd.DataFrame({'Age': ['Young', 'Young', 'Young', 'Young', 'Old', 'Old', 'Old', 'Old'],\n",
        "                        'Actor': ['Jack', 'Arnold', 'Keanu', 'Sylvester', 'Jack', 'Arnold', 'Keanu', 'Sylvester'],\n",
        "                        'Power': [100, 80, 25, 50, 99, 75, 5, 30]})\n",
        "test_df\n",
        "pivoted_df = test_df.pivot(index=\"Age\", columns=\"Actor\", values=\"Power\")\n",
        "pivoted_df"
      ]
    },
    {
      "cell_type": "markdown",
      "metadata": {
        "colab_type": "text",
        "id": "RWKcVIyFKwHM"
      },
      "source": [
        "**Challenge**: What are the dimensions of our new dataframe? How many rows and columns does it have? Print out the column names and print out the first 5 rows of the dataframe."
      ]
    },
    {
      "cell_type": "code",
      "execution_count": 68,
      "metadata": {
        "colab": {},
        "colab_type": "code",
        "id": "v-u4FcLXGxu9"
      },
      "outputs": [
        {
          "data": {
            "text/html": [
              "<div>\n",
              "<style scoped>\n",
              "    .dataframe tbody tr th:only-of-type {\n",
              "        vertical-align: middle;\n",
              "    }\n",
              "\n",
              "    .dataframe tbody tr th {\n",
              "        vertical-align: top;\n",
              "    }\n",
              "\n",
              "    .dataframe thead th {\n",
              "        text-align: right;\n",
              "    }\n",
              "</style>\n",
              "<table border=\"1\" class=\"dataframe\">\n",
              "  <thead>\n",
              "    <tr style=\"text-align: right;\">\n",
              "      <th>TAG</th>\n",
              "      <th>assembly</th>\n",
              "      <th>c</th>\n",
              "      <th>c#</th>\n",
              "      <th>c++</th>\n",
              "      <th>delphi</th>\n",
              "      <th>go</th>\n",
              "      <th>java</th>\n",
              "      <th>javascript</th>\n",
              "      <th>perl</th>\n",
              "      <th>php</th>\n",
              "      <th>python</th>\n",
              "      <th>r</th>\n",
              "      <th>ruby</th>\n",
              "      <th>swift</th>\n",
              "    </tr>\n",
              "    <tr>\n",
              "      <th>DATE</th>\n",
              "      <th></th>\n",
              "      <th></th>\n",
              "      <th></th>\n",
              "      <th></th>\n",
              "      <th></th>\n",
              "      <th></th>\n",
              "      <th></th>\n",
              "      <th></th>\n",
              "      <th></th>\n",
              "      <th></th>\n",
              "      <th></th>\n",
              "      <th></th>\n",
              "      <th></th>\n",
              "      <th></th>\n",
              "    </tr>\n",
              "  </thead>\n",
              "  <tbody>\n",
              "    <tr>\n",
              "      <th>2008-07-01</th>\n",
              "      <td>0.0</td>\n",
              "      <td>0.0</td>\n",
              "      <td>3.0</td>\n",
              "      <td>0.0</td>\n",
              "      <td>0.0</td>\n",
              "      <td>0.0</td>\n",
              "      <td>0.0</td>\n",
              "      <td>0.0</td>\n",
              "      <td>0.0</td>\n",
              "      <td>0.0</td>\n",
              "      <td>0.0</td>\n",
              "      <td>0.0</td>\n",
              "      <td>0.0</td>\n",
              "      <td>0.0</td>\n",
              "    </tr>\n",
              "    <tr>\n",
              "      <th>2008-08-01</th>\n",
              "      <td>8.0</td>\n",
              "      <td>83.0</td>\n",
              "      <td>505.0</td>\n",
              "      <td>164.0</td>\n",
              "      <td>14.0</td>\n",
              "      <td>0.0</td>\n",
              "      <td>222.0</td>\n",
              "      <td>163.0</td>\n",
              "      <td>28.0</td>\n",
              "      <td>158.0</td>\n",
              "      <td>120.0</td>\n",
              "      <td>0.0</td>\n",
              "      <td>70.0</td>\n",
              "      <td>0.0</td>\n",
              "    </tr>\n",
              "    <tr>\n",
              "      <th>2008-09-01</th>\n",
              "      <td>28.0</td>\n",
              "      <td>320.0</td>\n",
              "      <td>1641.0</td>\n",
              "      <td>754.0</td>\n",
              "      <td>104.0</td>\n",
              "      <td>0.0</td>\n",
              "      <td>1129.0</td>\n",
              "      <td>634.0</td>\n",
              "      <td>130.0</td>\n",
              "      <td>475.0</td>\n",
              "      <td>537.0</td>\n",
              "      <td>6.0</td>\n",
              "      <td>287.0</td>\n",
              "      <td>0.0</td>\n",
              "    </tr>\n",
              "    <tr>\n",
              "      <th>2008-10-01</th>\n",
              "      <td>16.0</td>\n",
              "      <td>302.0</td>\n",
              "      <td>1988.0</td>\n",
              "      <td>807.0</td>\n",
              "      <td>112.0</td>\n",
              "      <td>0.0</td>\n",
              "      <td>1149.0</td>\n",
              "      <td>722.0</td>\n",
              "      <td>128.0</td>\n",
              "      <td>610.0</td>\n",
              "      <td>506.0</td>\n",
              "      <td>0.0</td>\n",
              "      <td>247.0</td>\n",
              "      <td>0.0</td>\n",
              "    </tr>\n",
              "    <tr>\n",
              "      <th>2008-11-01</th>\n",
              "      <td>16.0</td>\n",
              "      <td>258.0</td>\n",
              "      <td>1731.0</td>\n",
              "      <td>734.0</td>\n",
              "      <td>141.0</td>\n",
              "      <td>0.0</td>\n",
              "      <td>956.0</td>\n",
              "      <td>580.0</td>\n",
              "      <td>97.0</td>\n",
              "      <td>499.0</td>\n",
              "      <td>449.0</td>\n",
              "      <td>1.0</td>\n",
              "      <td>157.0</td>\n",
              "      <td>0.0</td>\n",
              "    </tr>\n",
              "    <tr>\n",
              "      <th>...</th>\n",
              "      <td>...</td>\n",
              "      <td>...</td>\n",
              "      <td>...</td>\n",
              "      <td>...</td>\n",
              "      <td>...</td>\n",
              "      <td>...</td>\n",
              "      <td>...</td>\n",
              "      <td>...</td>\n",
              "      <td>...</td>\n",
              "      <td>...</td>\n",
              "      <td>...</td>\n",
              "      <td>...</td>\n",
              "      <td>...</td>\n",
              "      <td>...</td>\n",
              "    </tr>\n",
              "    <tr>\n",
              "      <th>2023-02-01</th>\n",
              "      <td>188.0</td>\n",
              "      <td>1309.0</td>\n",
              "      <td>4763.0</td>\n",
              "      <td>2222.0</td>\n",
              "      <td>133.0</td>\n",
              "      <td>660.0</td>\n",
              "      <td>5190.0</td>\n",
              "      <td>10453.0</td>\n",
              "      <td>79.0</td>\n",
              "      <td>2428.0</td>\n",
              "      <td>15720.0</td>\n",
              "      <td>3803.0</td>\n",
              "      <td>340.0</td>\n",
              "      <td>1296.0</td>\n",
              "    </tr>\n",
              "    <tr>\n",
              "      <th>2023-03-01</th>\n",
              "      <td>180.0</td>\n",
              "      <td>1266.0</td>\n",
              "      <td>4912.0</td>\n",
              "      <td>2572.0</td>\n",
              "      <td>143.0</td>\n",
              "      <td>639.0</td>\n",
              "      <td>5541.0</td>\n",
              "      <td>10545.0</td>\n",
              "      <td>95.0</td>\n",
              "      <td>2283.0</td>\n",
              "      <td>15569.0</td>\n",
              "      <td>3832.0</td>\n",
              "      <td>301.0</td>\n",
              "      <td>1368.0</td>\n",
              "    </tr>\n",
              "    <tr>\n",
              "      <th>2023-04-01</th>\n",
              "      <td>197.0</td>\n",
              "      <td>1190.0</td>\n",
              "      <td>3853.0</td>\n",
              "      <td>1968.0</td>\n",
              "      <td>121.0</td>\n",
              "      <td>516.0</td>\n",
              "      <td>4503.0</td>\n",
              "      <td>8320.0</td>\n",
              "      <td>56.0</td>\n",
              "      <td>1944.0</td>\n",
              "      <td>12444.0</td>\n",
              "      <td>3108.0</td>\n",
              "      <td>220.0</td>\n",
              "      <td>1098.0</td>\n",
              "    </tr>\n",
              "    <tr>\n",
              "      <th>2023-05-01</th>\n",
              "      <td>176.0</td>\n",
              "      <td>1052.0</td>\n",
              "      <td>3849.0</td>\n",
              "      <td>1785.0</td>\n",
              "      <td>115.0</td>\n",
              "      <td>428.0</td>\n",
              "      <td>4205.0</td>\n",
              "      <td>7814.0</td>\n",
              "      <td>54.0</td>\n",
              "      <td>1979.0</td>\n",
              "      <td>11840.0</td>\n",
              "      <td>2868.0</td>\n",
              "      <td>256.0</td>\n",
              "      <td>1003.0</td>\n",
              "    </tr>\n",
              "    <tr>\n",
              "      <th>2023-06-01</th>\n",
              "      <td>160.0</td>\n",
              "      <td>924.0</td>\n",
              "      <td>3943.0</td>\n",
              "      <td>1919.0</td>\n",
              "      <td>120.0</td>\n",
              "      <td>544.0</td>\n",
              "      <td>4512.0</td>\n",
              "      <td>7807.0</td>\n",
              "      <td>55.0</td>\n",
              "      <td>2020.0</td>\n",
              "      <td>11725.0</td>\n",
              "      <td>2710.0</td>\n",
              "      <td>229.0</td>\n",
              "      <td>1163.0</td>\n",
              "    </tr>\n",
              "  </tbody>\n",
              "</table>\n",
              "<p>180 rows × 14 columns</p>\n",
              "</div>"
            ],
            "text/plain": [
              "TAG         assembly       c      c#     c++  delphi     go    java  \\\n",
              "DATE                                                                  \n",
              "2008-07-01       0.0     0.0     3.0     0.0     0.0    0.0     0.0   \n",
              "2008-08-01       8.0    83.0   505.0   164.0    14.0    0.0   222.0   \n",
              "2008-09-01      28.0   320.0  1641.0   754.0   104.0    0.0  1129.0   \n",
              "2008-10-01      16.0   302.0  1988.0   807.0   112.0    0.0  1149.0   \n",
              "2008-11-01      16.0   258.0  1731.0   734.0   141.0    0.0   956.0   \n",
              "...              ...     ...     ...     ...     ...    ...     ...   \n",
              "2023-02-01     188.0  1309.0  4763.0  2222.0   133.0  660.0  5190.0   \n",
              "2023-03-01     180.0  1266.0  4912.0  2572.0   143.0  639.0  5541.0   \n",
              "2023-04-01     197.0  1190.0  3853.0  1968.0   121.0  516.0  4503.0   \n",
              "2023-05-01     176.0  1052.0  3849.0  1785.0   115.0  428.0  4205.0   \n",
              "2023-06-01     160.0   924.0  3943.0  1919.0   120.0  544.0  4512.0   \n",
              "\n",
              "TAG         javascript   perl     php   python       r   ruby   swift  \n",
              "DATE                                                                   \n",
              "2008-07-01         0.0    0.0     0.0      0.0     0.0    0.0     0.0  \n",
              "2008-08-01       163.0   28.0   158.0    120.0     0.0   70.0     0.0  \n",
              "2008-09-01       634.0  130.0   475.0    537.0     6.0  287.0     0.0  \n",
              "2008-10-01       722.0  128.0   610.0    506.0     0.0  247.0     0.0  \n",
              "2008-11-01       580.0   97.0   499.0    449.0     1.0  157.0     0.0  \n",
              "...                ...    ...     ...      ...     ...    ...     ...  \n",
              "2023-02-01     10453.0   79.0  2428.0  15720.0  3803.0  340.0  1296.0  \n",
              "2023-03-01     10545.0   95.0  2283.0  15569.0  3832.0  301.0  1368.0  \n",
              "2023-04-01      8320.0   56.0  1944.0  12444.0  3108.0  220.0  1098.0  \n",
              "2023-05-01      7814.0   54.0  1979.0  11840.0  2868.0  256.0  1003.0  \n",
              "2023-06-01      7807.0   55.0  2020.0  11725.0  2710.0  229.0  1163.0  \n",
              "\n",
              "[180 rows x 14 columns]"
            ]
          },
          "execution_count": 68,
          "metadata": {},
          "output_type": "execute_result"
        }
      ],
      "source": [
        "pivoted_compute_df = df.pivot(index=\"DATE\", columns=\"TAG\", values=\"POSTS\")\n",
        "pivoted_compute_df.fillna(0, inplace=True) # must use inplace else would need to use pivoted_compute_df = pivoted_compute_df.fillna(0)\n",
        "pivoted_compute_df"
      ]
    },
    {
      "cell_type": "code",
      "execution_count": 69,
      "metadata": {
        "colab": {},
        "colab_type": "code",
        "id": "NUyBcaMMGxu-"
      },
      "outputs": [
        {
          "name": "stdout",
          "output_type": "stream",
          "text": [
            "(180, 14)\n"
          ]
        },
        {
          "data": {
            "text/html": [
              "<div>\n",
              "<style scoped>\n",
              "    .dataframe tbody tr th:only-of-type {\n",
              "        vertical-align: middle;\n",
              "    }\n",
              "\n",
              "    .dataframe tbody tr th {\n",
              "        vertical-align: top;\n",
              "    }\n",
              "\n",
              "    .dataframe thead th {\n",
              "        text-align: right;\n",
              "    }\n",
              "</style>\n",
              "<table border=\"1\" class=\"dataframe\">\n",
              "  <thead>\n",
              "    <tr style=\"text-align: right;\">\n",
              "      <th>TAG</th>\n",
              "      <th>assembly</th>\n",
              "      <th>c</th>\n",
              "      <th>c#</th>\n",
              "      <th>c++</th>\n",
              "      <th>delphi</th>\n",
              "      <th>go</th>\n",
              "      <th>java</th>\n",
              "      <th>javascript</th>\n",
              "      <th>perl</th>\n",
              "      <th>php</th>\n",
              "      <th>python</th>\n",
              "      <th>r</th>\n",
              "      <th>ruby</th>\n",
              "      <th>swift</th>\n",
              "    </tr>\n",
              "    <tr>\n",
              "      <th>DATE</th>\n",
              "      <th></th>\n",
              "      <th></th>\n",
              "      <th></th>\n",
              "      <th></th>\n",
              "      <th></th>\n",
              "      <th></th>\n",
              "      <th></th>\n",
              "      <th></th>\n",
              "      <th></th>\n",
              "      <th></th>\n",
              "      <th></th>\n",
              "      <th></th>\n",
              "      <th></th>\n",
              "      <th></th>\n",
              "    </tr>\n",
              "  </thead>\n",
              "  <tbody>\n",
              "    <tr>\n",
              "      <th>2008-07-01</th>\n",
              "      <td>0.0</td>\n",
              "      <td>0.0</td>\n",
              "      <td>3.0</td>\n",
              "      <td>0.0</td>\n",
              "      <td>0.0</td>\n",
              "      <td>0.0</td>\n",
              "      <td>0.0</td>\n",
              "      <td>0.0</td>\n",
              "      <td>0.0</td>\n",
              "      <td>0.0</td>\n",
              "      <td>0.0</td>\n",
              "      <td>0.0</td>\n",
              "      <td>0.0</td>\n",
              "      <td>0.0</td>\n",
              "    </tr>\n",
              "    <tr>\n",
              "      <th>2008-08-01</th>\n",
              "      <td>8.0</td>\n",
              "      <td>83.0</td>\n",
              "      <td>505.0</td>\n",
              "      <td>164.0</td>\n",
              "      <td>14.0</td>\n",
              "      <td>0.0</td>\n",
              "      <td>222.0</td>\n",
              "      <td>163.0</td>\n",
              "      <td>28.0</td>\n",
              "      <td>158.0</td>\n",
              "      <td>120.0</td>\n",
              "      <td>0.0</td>\n",
              "      <td>70.0</td>\n",
              "      <td>0.0</td>\n",
              "    </tr>\n",
              "    <tr>\n",
              "      <th>2008-09-01</th>\n",
              "      <td>28.0</td>\n",
              "      <td>320.0</td>\n",
              "      <td>1641.0</td>\n",
              "      <td>754.0</td>\n",
              "      <td>104.0</td>\n",
              "      <td>0.0</td>\n",
              "      <td>1129.0</td>\n",
              "      <td>634.0</td>\n",
              "      <td>130.0</td>\n",
              "      <td>475.0</td>\n",
              "      <td>537.0</td>\n",
              "      <td>6.0</td>\n",
              "      <td>287.0</td>\n",
              "      <td>0.0</td>\n",
              "    </tr>\n",
              "    <tr>\n",
              "      <th>2008-10-01</th>\n",
              "      <td>16.0</td>\n",
              "      <td>302.0</td>\n",
              "      <td>1988.0</td>\n",
              "      <td>807.0</td>\n",
              "      <td>112.0</td>\n",
              "      <td>0.0</td>\n",
              "      <td>1149.0</td>\n",
              "      <td>722.0</td>\n",
              "      <td>128.0</td>\n",
              "      <td>610.0</td>\n",
              "      <td>506.0</td>\n",
              "      <td>0.0</td>\n",
              "      <td>247.0</td>\n",
              "      <td>0.0</td>\n",
              "    </tr>\n",
              "    <tr>\n",
              "      <th>2008-11-01</th>\n",
              "      <td>16.0</td>\n",
              "      <td>258.0</td>\n",
              "      <td>1731.0</td>\n",
              "      <td>734.0</td>\n",
              "      <td>141.0</td>\n",
              "      <td>0.0</td>\n",
              "      <td>956.0</td>\n",
              "      <td>580.0</td>\n",
              "      <td>97.0</td>\n",
              "      <td>499.0</td>\n",
              "      <td>449.0</td>\n",
              "      <td>1.0</td>\n",
              "      <td>157.0</td>\n",
              "      <td>0.0</td>\n",
              "    </tr>\n",
              "  </tbody>\n",
              "</table>\n",
              "</div>"
            ],
            "text/plain": [
              "TAG         assembly      c      c#    c++  delphi   go    java  javascript  \\\n",
              "DATE                                                                          \n",
              "2008-07-01       0.0    0.0     3.0    0.0     0.0  0.0     0.0         0.0   \n",
              "2008-08-01       8.0   83.0   505.0  164.0    14.0  0.0   222.0       163.0   \n",
              "2008-09-01      28.0  320.0  1641.0  754.0   104.0  0.0  1129.0       634.0   \n",
              "2008-10-01      16.0  302.0  1988.0  807.0   112.0  0.0  1149.0       722.0   \n",
              "2008-11-01      16.0  258.0  1731.0  734.0   141.0  0.0   956.0       580.0   \n",
              "\n",
              "TAG          perl    php  python    r   ruby  swift  \n",
              "DATE                                                 \n",
              "2008-07-01    0.0    0.0     0.0  0.0    0.0    0.0  \n",
              "2008-08-01   28.0  158.0   120.0  0.0   70.0    0.0  \n",
              "2008-09-01  130.0  475.0   537.0  6.0  287.0    0.0  \n",
              "2008-10-01  128.0  610.0   506.0  0.0  247.0    0.0  \n",
              "2008-11-01   97.0  499.0   449.0  1.0  157.0    0.0  "
            ]
          },
          "metadata": {},
          "output_type": "display_data"
        }
      ],
      "source": [
        "print(pivoted_compute_df.shape)\n",
        "display(pivoted_compute_df.head())"
      ]
    },
    {
      "cell_type": "code",
      "execution_count": 70,
      "metadata": {
        "colab": {},
        "colab_type": "code",
        "id": "LnUIOL3LGxvA"
      },
      "outputs": [
        {
          "data": {
            "text/html": [
              "<div>\n",
              "<style scoped>\n",
              "    .dataframe tbody tr th:only-of-type {\n",
              "        vertical-align: middle;\n",
              "    }\n",
              "\n",
              "    .dataframe tbody tr th {\n",
              "        vertical-align: top;\n",
              "    }\n",
              "\n",
              "    .dataframe thead th {\n",
              "        text-align: right;\n",
              "    }\n",
              "</style>\n",
              "<table border=\"1\" class=\"dataframe\">\n",
              "  <thead>\n",
              "    <tr style=\"text-align: right;\">\n",
              "      <th>TAG</th>\n",
              "      <th>assembly</th>\n",
              "      <th>c</th>\n",
              "      <th>c#</th>\n",
              "      <th>c++</th>\n",
              "      <th>delphi</th>\n",
              "      <th>go</th>\n",
              "      <th>java</th>\n",
              "      <th>javascript</th>\n",
              "      <th>perl</th>\n",
              "      <th>php</th>\n",
              "      <th>python</th>\n",
              "      <th>r</th>\n",
              "      <th>ruby</th>\n",
              "      <th>swift</th>\n",
              "    </tr>\n",
              "    <tr>\n",
              "      <th>DATE</th>\n",
              "      <th></th>\n",
              "      <th></th>\n",
              "      <th></th>\n",
              "      <th></th>\n",
              "      <th></th>\n",
              "      <th></th>\n",
              "      <th></th>\n",
              "      <th></th>\n",
              "      <th></th>\n",
              "      <th></th>\n",
              "      <th></th>\n",
              "      <th></th>\n",
              "      <th></th>\n",
              "      <th></th>\n",
              "    </tr>\n",
              "  </thead>\n",
              "  <tbody>\n",
              "    <tr>\n",
              "      <th>2023-02-01</th>\n",
              "      <td>188.0</td>\n",
              "      <td>1309.0</td>\n",
              "      <td>4763.0</td>\n",
              "      <td>2222.0</td>\n",
              "      <td>133.0</td>\n",
              "      <td>660.0</td>\n",
              "      <td>5190.0</td>\n",
              "      <td>10453.0</td>\n",
              "      <td>79.0</td>\n",
              "      <td>2428.0</td>\n",
              "      <td>15720.0</td>\n",
              "      <td>3803.0</td>\n",
              "      <td>340.0</td>\n",
              "      <td>1296.0</td>\n",
              "    </tr>\n",
              "    <tr>\n",
              "      <th>2023-03-01</th>\n",
              "      <td>180.0</td>\n",
              "      <td>1266.0</td>\n",
              "      <td>4912.0</td>\n",
              "      <td>2572.0</td>\n",
              "      <td>143.0</td>\n",
              "      <td>639.0</td>\n",
              "      <td>5541.0</td>\n",
              "      <td>10545.0</td>\n",
              "      <td>95.0</td>\n",
              "      <td>2283.0</td>\n",
              "      <td>15569.0</td>\n",
              "      <td>3832.0</td>\n",
              "      <td>301.0</td>\n",
              "      <td>1368.0</td>\n",
              "    </tr>\n",
              "    <tr>\n",
              "      <th>2023-04-01</th>\n",
              "      <td>197.0</td>\n",
              "      <td>1190.0</td>\n",
              "      <td>3853.0</td>\n",
              "      <td>1968.0</td>\n",
              "      <td>121.0</td>\n",
              "      <td>516.0</td>\n",
              "      <td>4503.0</td>\n",
              "      <td>8320.0</td>\n",
              "      <td>56.0</td>\n",
              "      <td>1944.0</td>\n",
              "      <td>12444.0</td>\n",
              "      <td>3108.0</td>\n",
              "      <td>220.0</td>\n",
              "      <td>1098.0</td>\n",
              "    </tr>\n",
              "    <tr>\n",
              "      <th>2023-05-01</th>\n",
              "      <td>176.0</td>\n",
              "      <td>1052.0</td>\n",
              "      <td>3849.0</td>\n",
              "      <td>1785.0</td>\n",
              "      <td>115.0</td>\n",
              "      <td>428.0</td>\n",
              "      <td>4205.0</td>\n",
              "      <td>7814.0</td>\n",
              "      <td>54.0</td>\n",
              "      <td>1979.0</td>\n",
              "      <td>11840.0</td>\n",
              "      <td>2868.0</td>\n",
              "      <td>256.0</td>\n",
              "      <td>1003.0</td>\n",
              "    </tr>\n",
              "    <tr>\n",
              "      <th>2023-06-01</th>\n",
              "      <td>160.0</td>\n",
              "      <td>924.0</td>\n",
              "      <td>3943.0</td>\n",
              "      <td>1919.0</td>\n",
              "      <td>120.0</td>\n",
              "      <td>544.0</td>\n",
              "      <td>4512.0</td>\n",
              "      <td>7807.0</td>\n",
              "      <td>55.0</td>\n",
              "      <td>2020.0</td>\n",
              "      <td>11725.0</td>\n",
              "      <td>2710.0</td>\n",
              "      <td>229.0</td>\n",
              "      <td>1163.0</td>\n",
              "    </tr>\n",
              "  </tbody>\n",
              "</table>\n",
              "</div>"
            ],
            "text/plain": [
              "TAG         assembly       c      c#     c++  delphi     go    java  \\\n",
              "DATE                                                                  \n",
              "2023-02-01     188.0  1309.0  4763.0  2222.0   133.0  660.0  5190.0   \n",
              "2023-03-01     180.0  1266.0  4912.0  2572.0   143.0  639.0  5541.0   \n",
              "2023-04-01     197.0  1190.0  3853.0  1968.0   121.0  516.0  4503.0   \n",
              "2023-05-01     176.0  1052.0  3849.0  1785.0   115.0  428.0  4205.0   \n",
              "2023-06-01     160.0   924.0  3943.0  1919.0   120.0  544.0  4512.0   \n",
              "\n",
              "TAG         javascript  perl     php   python       r   ruby   swift  \n",
              "DATE                                                                  \n",
              "2023-02-01     10453.0  79.0  2428.0  15720.0  3803.0  340.0  1296.0  \n",
              "2023-03-01     10545.0  95.0  2283.0  15569.0  3832.0  301.0  1368.0  \n",
              "2023-04-01      8320.0  56.0  1944.0  12444.0  3108.0  220.0  1098.0  \n",
              "2023-05-01      7814.0  54.0  1979.0  11840.0  2868.0  256.0  1003.0  \n",
              "2023-06-01      7807.0  55.0  2020.0  11725.0  2710.0  229.0  1163.0  "
            ]
          },
          "metadata": {},
          "output_type": "display_data"
        },
        {
          "name": "stdout",
          "output_type": "stream",
          "text": [
            "Index(['assembly', 'c', 'c#', 'c++', 'delphi', 'go', 'java', 'javascript',\n",
            "       'perl', 'php', 'python', 'r', 'ruby', 'swift'],\n",
            "      dtype='object', name='TAG')\n"
          ]
        }
      ],
      "source": [
        "display(pivoted_compute_df.tail())\n",
        "print(pivoted_compute_df.columns)"
      ]
    },
    {
      "cell_type": "markdown",
      "metadata": {
        "colab_type": "text",
        "id": "BoDCuRU0GxvC"
      },
      "source": [
        "**Challenge**: Count the number of entries per programming language. Why might the number of entries be different? "
      ]
    },
    {
      "cell_type": "code",
      "execution_count": 71,
      "metadata": {
        "colab": {},
        "colab_type": "code",
        "id": "-peEFgaMGxvE"
      },
      "outputs": [
        {
          "data": {
            "text/plain": [
              "TAG\n",
              "assembly        42910.0\n",
              "c              397157.0\n",
              "c#            1594301.0\n",
              "c++            795196.0\n",
              "delphi          51012.0\n",
              "go              69602.0\n",
              "java          1898827.0\n",
              "javascript    2498146.0\n",
              "perl            67688.0\n",
              "php           1458594.0\n",
              "python        2141741.0\n",
              "r              492163.0\n",
              "ruby           228028.0\n",
              "swift          327910.0\n",
              "dtype: float64"
            ]
          },
          "execution_count": 71,
          "metadata": {},
          "output_type": "execute_result"
        }
      ],
      "source": [
        "pivoted_compute_df.sum(axis=0)"
      ]
    },
    {
      "cell_type": "code",
      "execution_count": 72,
      "metadata": {
        "colab": {},
        "colab_type": "code",
        "id": "01f2BCF8GxvG"
      },
      "outputs": [
        {
          "data": {
            "text/plain": [
              "TAG\n",
              "assembly      180\n",
              "c             180\n",
              "c#            180\n",
              "c++           180\n",
              "delphi        180\n",
              "go            180\n",
              "java          180\n",
              "javascript    180\n",
              "perl          180\n",
              "php           180\n",
              "python        180\n",
              "r             180\n",
              "ruby          180\n",
              "swift         180\n",
              "dtype: int64"
            ]
          },
          "execution_count": 72,
          "metadata": {},
          "output_type": "execute_result"
        }
      ],
      "source": [
        "pivoted_compute_df.count()"
      ]
    },
    {
      "cell_type": "code",
      "execution_count": 73,
      "metadata": {
        "colab": {},
        "colab_type": "code",
        "id": "KooRRxAdGxvI"
      },
      "outputs": [
        {
          "data": {
            "text/plain": [
              "False"
            ]
          },
          "execution_count": 73,
          "metadata": {},
          "output_type": "execute_result"
        }
      ],
      "source": [
        "pivoted_compute_df.isna().values.any() # check if any nans still in df"
      ]
    },
    {
      "cell_type": "markdown",
      "metadata": {
        "colab_type": "text",
        "id": "8xU7l_f4GxvK"
      },
      "source": [
        "## Data Visualisaton with with Matplotlib\n"
      ]
    },
    {
      "cell_type": "markdown",
      "metadata": {
        "colab_type": "text",
        "id": "njnNXTlhGxvK"
      },
      "source": [
        "**Challenge**: Use the [matplotlib documentation](https://matplotlib.org/3.2.1/api/_as_gen/matplotlib.pyplot.plot.html#matplotlib.pyplot.plot) to plot a single programming language (e.g., java) on a chart."
      ]
    },
    {
      "cell_type": "code",
      "execution_count": 99,
      "metadata": {
        "colab": {},
        "colab_type": "code",
        "id": "S0OS8T8iGxvL"
      },
      "outputs": [
        {
          "name": "stdout",
          "output_type": "stream",
          "text": [
            "           DATE   TAG  POSTS\n",
            "6    2008-08-01  java    222\n",
            "17   2008-09-01  java   1129\n",
            "29   2008-10-01  java   1149\n",
            "40   2008-11-01  java    956\n",
            "52   2008-12-01  java    826\n",
            "...         ...   ...    ...\n",
            "2418 2023-02-01  java   5190\n",
            "2432 2023-03-01  java   5541\n",
            "2446 2023-04-01  java   4503\n",
            "2460 2023-05-01  java   4205\n",
            "2474 2023-06-01  java   4512\n",
            "\n",
            "[179 rows x 3 columns]\n"
          ]
        },
        {
          "data": {
            "image/png": "[encoded data removed]",
            "text/plain": [
              "<Figure size 640x480 with 1 Axes>"
            ]
          },
          "metadata": {},
          "output_type": "display_data"
        }
      ],
      "source": [
        "java = df.loc[df[\"TAG\"]==\"java\"]\n",
        "print(java)\n",
        "# Two methods\n",
        "# Method 1:\n",
        "plt.plot(java[\"DATE\"], java[\"POSTS\"])\n",
        "plt.show()\n",
        "\n"
      ]
    },
    {
      "cell_type": "markdown",
      "metadata": {
        "colab_type": "text",
        "id": "Sm2DL5tZGxvQ"
      },
      "source": [
        "**Challenge**: Show two line (e.g. for Java and Python) on the same chart."
      ]
    },
    {
      "cell_type": "code",
      "execution_count": 102,
      "metadata": {
        "colab": {},
        "colab_type": "code",
        "id": "T-0vClQSGxvQ"
      },
      "outputs": [
        {
          "data": {
            "image/png": "[encoded data removed]",
            "text/plain": [
              "<Figure size 1600x1000 with 1 Axes>"
            ]
          },
          "metadata": {},
          "output_type": "display_data"
        }
      ],
      "source": [
        "# Method 2:\n",
        "# Index = dates\n",
        "# y axis = java column of pivoted table\n",
        "plt.figure(figsize=(16,10))\n",
        "plt.xticks(fontsize=14)\n",
        "plt.yticks(fontsize=14)\n",
        "plt.xlabel(\"Date\", fontsize=14)\n",
        "plt.ylabel(\"No. of Posts\", fontsize=14)\n",
        "plt.ylim(0, 30000)\n",
        "\n",
        "plt.plot(pivoted_compute_df.index, pivoted_compute_df[\"java\"])\n",
        "plt.plot(pivoted_compute_df.index, pivoted_compute_df[\"python\"])\n",
        "plt.show()"
      ]
    },
    {
      "cell_type": "markdown",
      "metadata": {
        "colab_type": "text",
        "id": "3jSjfPy7GxvY"
      },
      "source": [
        "# Smoothing out Time Series Data\n",
        "\n",
        "Time series data can be quite noisy, with a lot of up and down spikes. To better see a trend we can plot an average of, say 6 or 12 observations. This is called the rolling mean. We calculate the average in a window of time and move it forward by one overservation. Pandas has two handy methods already built in to work this out: [rolling()](https://pandas.pydata.org/pandas-docs/stable/reference/api/pandas.DataFrame.rolling.html) and [mean()](https://pandas.pydata.org/pandas-docs/stable/reference/api/pandas.core.window.rolling.Rolling.mean.html). "
      ]
    },
    {
      "cell_type": "code",
      "execution_count": null,
      "metadata": {
        "colab": {},
        "colab_type": "code",
        "id": "s3WYd3OgGxvc"
      },
      "outputs": [],
      "source": []
    },
    {
      "cell_type": "code",
      "execution_count": null,
      "metadata": {
        "colab": {},
        "colab_type": "code",
        "id": "WMJOX8Y2Gxvd"
      },
      "outputs": [],
      "source": []
    },
    {
      "cell_type": "code",
      "execution_count": null,
      "metadata": {
        "colab": {},
        "colab_type": "code",
        "id": "fAvvarA7Gxvf"
      },
      "outputs": [],
      "source": []
    },
    {
      "cell_type": "code",
      "execution_count": null,
      "metadata": {
        "colab": {},
        "colab_type": "code",
        "id": "Gm0Ww0S4Gxvg"
      },
      "outputs": [],
      "source": []
    }
  ],
  "metadata": {
    "colab": {
      "name": "Programming Languages (start).ipynb",
      "provenance": []
    },
    "kernelspec": {
      "display_name": "Python 3",
      "language": "python",
      "name": "python3"
    },
    "language_info": {
      "codemirror_mode": {
        "name": "ipython",
        "version": 3
      },
      "file_extension": ".py",
      "mimetype": "text/x-python",
      "name": "python",
      "nbconvert_exporter": "python",
      "pygments_lexer": "ipython3",
      "version": "3.7.3"
    }
  },
  "nbformat": 4,
  "nbformat_minor": 0
}
